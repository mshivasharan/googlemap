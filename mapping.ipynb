{
 "cells": [
  {
   "cell_type": "code",
   "execution_count": 2,
   "metadata": {},
   "outputs": [],
   "source": [
    "import folium\n",
    "import pandas as pd\n",
    "map = folium.Map(location=[80, -100])\n",
    "map.save(\"Map1.html\")"
   ]
  },
  {
   "cell_type": "code",
   "execution_count": 20,
   "metadata": {},
   "outputs": [],
   "source": [
    "volcanos = pd.read_csv(\"volcanos.txt\")\n",
    "lat = list(volcanos[\"LAT\"])\n",
    "lon = list(volcanos[\"LON\"])\n",
    "elev = list(volcanos[\"ELEV\"])\n",
    "name = list(volcanos[\"NAME\"])\n",
    "\n",
    "html = \"\"\"Volcano information:<br>\n",
    "<a href=\"https://https://www.google.com/search?q=%%22%s%%22\" target=\"_blank\">%s</a><br>\n",
    "Height: %s m\n",
    "\"\"\"\n",
    "\n",
    "map = folium.Map(location=[lat[0], lon[0]], zoom_start=4, tiles=\"Stamen Terrain\")\n",
    "\n",
    "fg=folium.FeatureGroup(name=\"My Map\")\n",
    "\n",
    "for lt, ln, el, name in zip(lat, lon, elev, name):\n",
    "    iframe = folium.IFrame(html=html %(name, name, el), width=200, height=100)\n",
    "    fg.add_child(folium.Marker(location=[lt, ln], popup= folium.Popup(iframe) , icon=folium.Icon(color=\"red\")))\n",
    "\n",
    "map.add_child(fg)\n",
    "\n",
    "map.save(\"Map_html_popup_simple.html\")"
   ]
  },
  {
   "cell_type": "code",
   "execution_count": null,
   "metadata": {},
   "outputs": [],
   "source": []
  },
  {
   "cell_type": "code",
   "execution_count": 145,
   "metadata": {},
   "outputs": [
    {
     "name": "stdout",
     "output_type": "stream",
     "text": [
      "480 740\n",
      " \n",
      "58 152\n",
      "0.000\n"
     ]
    }
   ],
   "source": [
    "import pandas as pd\n",
    "import numpy as np\n",
    "from statsmodels.stats.proportion import proportions_ztest\n",
    "\n",
    "df=pd.read_excel(\"JohnyTalkers.xlsx\")\n",
    "\n",
    "tab1 = df[\"Person\"].value_counts()\n",
    "tab2 = df[\"Drinks\"].value_counts()\n",
    "\n",
    "print(tab1[1], tab1[0])\n",
    "\n",
    "print(\" \")\n",
    "groupdf = df.groupby('Person')['Drinks'].value_counts()\n",
    "\n",
    "print(groupdf[1], groupdf[3])\n",
    "\n",
    "count = np.array([groupdf[1], groupdf[3]])\n",
    "nobs = np.array([tab1[1], tab1[0]])\n",
    "\n",
    "stat, pval = proportions_ztest(count, nobs)\n",
    "print('{0:0.3f}'.format(pval))\n",
    "\n",
    "#(58, 152)\n",
    "#(480, 740)"
   ]
  },
  {
   "cell_type": "code",
   "execution_count": null,
   "metadata": {},
   "outputs": [],
   "source": []
  },
  {
   "cell_type": "code",
   "execution_count": null,
   "metadata": {},
   "outputs": [],
   "source": []
  },
  {
   "cell_type": "code",
   "execution_count": null,
   "metadata": {},
   "outputs": [],
   "source": []
  }
 ],
 "metadata": {
  "kernelspec": {
   "display_name": "Python 3",
   "language": "python",
   "name": "python3"
  },
  "language_info": {
   "codemirror_mode": {
    "name": "ipython",
    "version": 3
   },
   "file_extension": ".py",
   "mimetype": "text/x-python",
   "name": "python",
   "nbconvert_exporter": "python",
   "pygments_lexer": "ipython3",
   "version": "3.8.2"
  }
 },
 "nbformat": 4,
 "nbformat_minor": 4
}
